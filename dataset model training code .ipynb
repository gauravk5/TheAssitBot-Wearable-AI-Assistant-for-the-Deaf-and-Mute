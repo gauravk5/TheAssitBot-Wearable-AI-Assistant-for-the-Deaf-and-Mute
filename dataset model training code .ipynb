{
 "cells": [
  {
   "cell_type": "code",
   "execution_count": 3,
   "id": "8ff8f4fe-75a8-4fb1-8fc6-6028f77773a1",
   "metadata": {},
   "outputs": [
    {
     "name": "stdout",
     "output_type": "stream",
     "text": [
      "Epoch 1/10\n",
      "215/215 [==============================] - 11s 46ms/step - loss: 1.6278 - accuracy: 0.5322 - val_loss: 0.7440 - val_accuracy: 0.7533\n",
      "Epoch 2/10\n",
      "215/215 [==============================] - 10s 46ms/step - loss: 0.2968 - accuracy: 0.9220 - val_loss: 0.4585 - val_accuracy: 0.8533\n",
      "Epoch 3/10\n",
      "215/215 [==============================] - 11s 50ms/step - loss: 0.0786 - accuracy: 0.9878 - val_loss: 0.3816 - val_accuracy: 0.8819\n",
      "Epoch 4/10\n",
      "215/215 [==============================] - 10s 48ms/step - loss: 0.0244 - accuracy: 0.9992 - val_loss: 0.3695 - val_accuracy: 0.8989\n",
      "Epoch 5/10\n",
      "215/215 [==============================] - 11s 52ms/step - loss: 0.0104 - accuracy: 0.9999 - val_loss: 0.3972 - val_accuracy: 0.8931\n",
      "Epoch 6/10\n",
      "215/215 [==============================] - 11s 50ms/step - loss: 0.0059 - accuracy: 1.0000 - val_loss: 0.4103 - val_accuracy: 0.8995\n",
      "Epoch 7/10\n",
      "215/215 [==============================] - 10s 46ms/step - loss: 0.0036 - accuracy: 1.0000 - val_loss: 0.3923 - val_accuracy: 0.9025\n",
      "Epoch 8/10\n",
      "215/215 [==============================] - 10s 47ms/step - loss: 0.0025 - accuracy: 1.0000 - val_loss: 0.4211 - val_accuracy: 0.9024\n",
      "Epoch 9/10\n",
      "215/215 [==============================] - 10s 48ms/step - loss: 0.0018 - accuracy: 1.0000 - val_loss: 0.4177 - val_accuracy: 0.9070\n",
      "Epoch 10/10\n",
      "215/215 [==============================] - 10s 47ms/step - loss: 0.0013 - accuracy: 1.0000 - val_loss: 0.4375 - val_accuracy: 0.9052\n",
      "225/225 [==============================] - 1s 5ms/step - loss: 0.4375 - accuracy: 0.9052\n",
      "Test Accuracy: 90.52%\n"
     ]
    }
   ],
   "source": [
    "import numpy as np\n",
    "import pandas as pd\n",
    "from tensorflow.keras.models import Sequential\n",
    "from tensorflow.keras.layers import Dense, Conv2D, MaxPooling2D, Flatten\n",
    "from tensorflow.keras.utils import to_categorical\n",
    "from sklearn.model_selection import train_test_split\n",
    "\n",
    "# Load the data\n",
    "train_data = pd.read_csv('C:/Users/Gaurav/Downloads/archive/sign_mnist_train/sign_mnist_train.csv')\n",
    "test_data = pd.read_csv('C:/Users/Gaurav/Downloads/archive/sign_mnist_test/sign_mnist_test.csv')\n",
    "\n",
    "# Separate features and labels\n",
    "x_train = train_data.iloc[:, 1:].values\n",
    "y_train = train_data.iloc[:, 0].values\n",
    "x_test = test_data.iloc[:, 1:].values\n",
    "y_test = test_data.iloc[:, 0].values\n",
    "\n",
    "# Reshape and normalize\n",
    "x_train = x_train.reshape(-1, 28, 28, 1).astype(\"float32\") / 255.0\n",
    "x_test = x_test.reshape(-1, 28, 28, 1).astype(\"float32\") / 255.0\n",
    "\n",
    "# Determine number of classes\n",
    "num_classes = y_train.max() + 1  # Adjusting based on the maximum label value\n",
    "\n",
    "# One-hot encode the labels\n",
    "y_train = to_categorical(y_train, num_classes=num_classes)\n",
    "y_test = to_categorical(y_test, num_classes=num_classes)\n",
    "\n",
    "# Build the model\n",
    "model = Sequential([\n",
    "    Conv2D(32, kernel_size=(3, 3), activation=\"relu\", input_shape=(28, 28, 1)),\n",
    "    MaxPooling2D(pool_size=(2, 2)),\n",
    "    Conv2D(64, kernel_size=(3, 3), activation=\"relu\"),\n",
    "    MaxPooling2D(pool_size=(2, 2)),\n",
    "    Flatten(),\n",
    "    Dense(128, activation=\"relu\"),\n",
    "    Dense(num_classes, activation=\"softmax\")\n",
    "])\n",
    "\n",
    "# Compile the model\n",
    "model.compile(optimizer=\"adam\", loss=\"categorical_crossentropy\", metrics=[\"accuracy\"])\n",
    "\n",
    "# Train the model\n",
    "model.fit(x_train, y_train, validation_data=(x_test, y_test), epochs=10, batch_size=128)\n",
    "\n",
    "# Evaluate the model\n",
    "loss, accuracy = model.evaluate(x_test, y_test)\n",
    "print(f\"Test Accuracy: {accuracy * 100:.2f}%\")\n",
    "\n",
    "# Save the model as a .h5 file (Keras format)\n",
    "model.save(\"sign_language_model.h5\")\n",
    "\n",
    "# Convert and save the model as a kmodel file if needed for deployment\n",
    "# This step requires a conversion tool specific to the target hardware.\n"
   ]
  },
  {
   "cell_type": "code",
   "execution_count": 7,
   "id": "bced0868-15ae-498b-bc26-2b440e238724",
   "metadata": {},
   "outputs": [],
   "source": [
    "model.save(\"sign_language_model.h5\")"
   ]
  },
  {
   "cell_type": "code",
   "execution_count": 9,
   "id": "23399a87-64bb-4e31-aa6e-c6adfe51e24c",
   "metadata": {},
   "outputs": [],
   "source": [
    "model.save(r\"C:/Users/Gaurav/Desktop/sign_language_model.h5\")"
   ]
  },
  {
   "cell_type": "code",
   "execution_count": 10,
   "id": "93e3be7c-b1e7-4cb9-a715-d56533a48e20",
   "metadata": {},
   "outputs": [
    {
     "name": "stderr",
     "output_type": "stream",
     "text": [
      "WARNING:absl:Found untraced functions such as _jit_compiled_convolution_op, _jit_compiled_convolution_op while saving (showing 2 of 2). These functions will not be directly callable after loading.\n"
     ]
    },
    {
     "name": "stdout",
     "output_type": "stream",
     "text": [
      "INFO:tensorflow:Assets written to: C:\\Users\\Gaurav\\AppData\\Local\\Temp\\tmpwpkcv47i\\assets\n"
     ]
    },
    {
     "name": "stderr",
     "output_type": "stream",
     "text": [
      "INFO:tensorflow:Assets written to: C:\\Users\\Gaurav\\AppData\\Local\\Temp\\tmpwpkcv47i\\assets\n"
     ]
    }
   ],
   "source": [
    "import tensorflow as tf\n",
    "\n",
    "# Load the .h5 model\n",
    "model = tf.keras.models.load_model(\"sign_language_model.h5\")\n",
    "\n",
    "# Convert the model to TensorFlow Lite format\n",
    "converter = tf.lite.TFLiteConverter.from_keras_model(model)\n",
    "tflite_model = converter.convert()\n",
    "\n",
    "# Save the model\n",
    "with open(\"sign_language_model.tflite\", \"wb\") as f:\n",
    "    f.write(tflite_model)"
   ]
  },
  {
   "cell_type": "code",
   "execution_count": 11,
   "id": "f2ae41f7-56b6-4e08-97ab-50672445ff6d",
   "metadata": {},
   "outputs": [
    {
     "name": "stderr",
     "output_type": "stream",
     "text": [
      "WARNING:absl:Found untraced functions such as _jit_compiled_convolution_op, _jit_compiled_convolution_op while saving (showing 2 of 2). These functions will not be directly callable after loading.\n"
     ]
    },
    {
     "name": "stdout",
     "output_type": "stream",
     "text": [
      "INFO:tensorflow:Assets written to: C:/Users/Gaurav/Desktop/sign_language_model.tflite\\assets\n"
     ]
    },
    {
     "name": "stderr",
     "output_type": "stream",
     "text": [
      "INFO:tensorflow:Assets written to: C:/Users/Gaurav/Desktop/sign_language_model.tflite\\assets\n"
     ]
    }
   ],
   "source": [
    "model.save(r\"C:/Users/Gaurav/Desktop/sign_language_model.tflite\")"
   ]
  },
  {
   "cell_type": "code",
   "execution_count": null,
   "id": "1f6c94df-1362-4d21-9d28-4279d5d4afc1",
   "metadata": {},
   "outputs": [],
   "source": []
  }
 ],
 "metadata": {
  "kernelspec": {
   "display_name": "Python 3 (ipykernel)",
   "language": "python",
   "name": "python3"
  },
  "language_info": {
   "codemirror_mode": {
    "name": "ipython",
    "version": 3
   },
   "file_extension": ".py",
   "mimetype": "text/x-python",
   "name": "python",
   "nbconvert_exporter": "python",
   "pygments_lexer": "ipython3",
   "version": "3.10.5"
  }
 },
 "nbformat": 4,
 "nbformat_minor": 5
}
